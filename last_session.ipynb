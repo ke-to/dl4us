{
 "cells": [
  {
   "cell_type": "markdown",
   "metadata": {},
   "source": [
    "# 競馬において、各馬の実績はレース結果に影響するのか？"
   ]
  },
  {
   "cell_type": "markdown",
   "metadata": {},
   "source": [
    "使用するデータは、 http://www.netkeiba.com/ の2006/1/1から2018/3/18までのレースデータをスクレイピングしてお借りした。"
   ]
  },
  {
   "cell_type": "markdown",
   "metadata": {},
   "source": [
    "## 分析の目的\n",
    "競馬の勝敗予測は様々な研究や方法が開発されている。\n",
    "- 1着、複勝予想（二値分類問題）\n",
    "- 順位予想（他クラス分類問題）\n",
    "- 走破タイム、速度予想（回帰問題）\n",
    "など\n",
    "\n",
    "中でもCNNが得意とする分類問題の中でもシンプルな二値分類問題について考えていく。"
   ]
  },
  {
   "cell_type": "markdown",
   "metadata": {},
   "source": [
    "前提として、予測に使用するデータは出走前に把握することのできる指標を選定。  \n",
    "使用するデータは過去に出走経験のある馬が出場できる「９レース目」以降のデータで予測することとする。"
   ]
  },
  {
   "cell_type": "markdown",
   "metadata": {},
   "source": [
    "## 仮説\n",
    "過去の成績によって強さが決まるのなら、**特定の特徴を持った馬**が優先的に勝利するのではないか、という仮説のもと検証を行う。  \n",
    "また、その**特定の特徴**がどのようなものなのか把握できないため、CNNで学習させてみることとする。  \n",
    "\n",
    "優先的に勝利するということは、上位に入賞することと仮定し、今回は3位以内に入賞する  \n",
    "つまり複勝圏内に入るかどうかを予測して検証を行う。"
   ]
  },
  {
   "cell_type": "markdown",
   "metadata": {},
   "source": [
    "## 指標\n",
    "予測に使用する指標は出走前の情報と、過去の実績を使用する。  \n",
    "この時、当該レースの結果を示す指標は入れないように注意する。  \n",
    "\n",
    "また、例外として単勝オッズ（人が分析した結果を反映していると仮定）を説明変数に入れる。\n",
    "\n",
    "| 特徴量名 | カラム名 | 説明 |\n",
    "|:-----------|------------|------------|\n",
    "| 単勝オッズ    | win     | 馬券の倍率      |\n",
    "| 出走回数    | cnt_cumsum     | 過去の出走回数      |\n",
    "| 1位率    | x1st_ratio_lag     | 過去1位だった割合      |\n",
    "| 2位率    | x2nd_ratio_lag     | 過去2位だった割合      |\n",
    "| 3位率    | x3rd_ratio_lag     | 過去3位だった割合     |\n",
    "| 3位内率    | nyusho_ratio     | 過去3位以内だった割合      |\n",
    "| 複勝率    | x1st_and_2nd_ratio     | 過去1位もしくは2位だった割合     |\n",
    "| 休息期間    | last_date_diff     | 出走日-過去のレース日      |\n",
    "| 前回の走破タイム    | race_time_index_normalize_lag     | 走破タイムをレース毎に正規化      |\n",
    "| 前回1位    | order_of_arrival_lag_1     | 1=1位, 0=それ以外      |\n",
    "| 前回2位    | order_of_arrival_lag_2     | 1=2位, 0=それ以外     |\n",
    "| 前回3位    | order_of_arrival_lag_3     | 1=3位, 0=それ以外     |\n",
    "| 前回の着差    | wearing_diff_lag_1     | 1位とのタイム差      |\n",
    "| 過去3回の着差    | wearing_diff_ave_3     | 過去3回の着差の平均      |\n",
    "| 休息期間の平均    | wearing_diff_ave_sumple     | 休息期間の平均      |\n",
    "| 前回と同じ騎手    | is_jockey_some     | 1=同じ, 0=それ以外      |\n"
   ]
  },
  {
   "cell_type": "code",
   "execution_count": 54,
   "metadata": {},
   "outputs": [],
   "source": [
    "import os\n",
    "import re\n",
    "import time\n",
    "\n",
    "import numpy as np\n",
    "import pandas as pd\n",
    "import scipy as sp\n",
    "from pandas import DataFrame, Series\n",
    "\n",
    "from keras.datasets import cifar10\n",
    "from sklearn.model_selection import train_test_split\n",
    "from sklearn.metrics import f1_score\n",
    "from keras import metrics\n",
    "\n",
    "data = pd.read_csv(\"/root/userspace/homework/race_raw.csv\",low_memory=False, header=0)\n",
    "data = data[data.round_name >= 9]"
   ]
  },
  {
   "cell_type": "markdown",
   "metadata": {},
   "source": [
    "## データの前処理\n",
    "今回使用するデータだけのDFを作成し、トレーニング用のデータ（train_X, train_y）とテスト用のデータ（test_X, test_y）を準備する。\n"
   ]
  },
  {
   "cell_type": "code",
   "execution_count": 55,
   "metadata": {},
   "outputs": [],
   "source": [
    "# data.columns"
   ]
  },
  {
   "cell_type": "code",
   "execution_count": 106,
   "metadata": {},
   "outputs": [],
   "source": [
    "def load_data():\n",
    "    Y = np.eye(2)[data[\"below_is_3\"].values.astype('int32').flatten()]\n",
    "    X = data[['win', 'cnt_cumsum', 'x1st_ratio_lag',\n",
    "           'x2nd_ratio_lag', 'x3rd_ratio_lag', 'nyusho_ratio',\n",
    "           'x1st_and_2nd_ratio', 'last_date_diff', 'race_time_index_normalize_lag',\n",
    "           'order_of_arrival_lag_1', 'order_of_arrival_lag_2',\n",
    "           'order_of_arrival_lag_3', 'wearing_diff_lag_1', 'wearing_diff_ave_3',\n",
    "           'wearing_diff_ave_sumple', 'is_jockey_some']]\n",
    "    # print(Y)\n",
    "    # print(len(X.columns))\n",
    "    train_X, test_X, train_y, test_y = train_test_split(X, Y,\n",
    "                                                        test_size=10000)\n",
    "    return (train_X, test_X, train_y, test_y)\n"
   ]
  },
  {
   "cell_type": "markdown",
   "metadata": {},
   "source": [
    "## 学習\n",
    "前処理を行ったデータに対して学習を行う。  \n",
    "今回は時系列である「血統」や「馬の成長」は考慮せずCNNでモデルを作成する。"
   ]
  },
  {
   "cell_type": "code",
   "execution_count": 107,
   "metadata": {},
   "outputs": [],
   "source": [
    "def homework(train_X, train_y):\n",
    "    import keras\n",
    "    from keras.models import Sequential\n",
    "    from keras.layers import Dense, Conv2D, MaxPooling2D, Flatten, Input, Activation, Dropout, BatchNormalization\n",
    "    import matplotlib.pyplot as plt\n",
    "    from keras import backend as K\n",
    "    \n",
    "    train_X, valid_X, train_y, valid_y = train_test_split(\n",
    "    train_X, train_y, test_size=1000)\n",
    "    print(train_X.shape)\n",
    "\n",
    "    model = Sequential()\n",
    "    \n",
    "    model.add(Dense(256, input_shape=(16,), activation='relu'))\n",
    "    model.add(BatchNormalization())\n",
    "    model.add(Dropout(0.5))\n",
    "    model.add(Dense(256, activation='relu'))\n",
    "    model.add(BatchNormalization())\n",
    "    model.add(Dropout(0.5))\n",
    "    model.add(Dense(16, activation='relu'))\n",
    "    model.add(BatchNormalization())\n",
    "    model.add(Dense(2, activation='softmax'))\n",
    "    \n",
    "    opt = keras.optimizers.rmsprop(lr=0.0001, decay=1e-6)\n",
    "\n",
    "    model.compile(loss='binary_crossentropy', optimizer=opt, metrics=['accuracy'])\n",
    "        \n",
    "    history = model.fit(train_X, train_y, batch_size=144, verbose=0, epochs=100, validation_data=(valid_X, valid_y))\n",
    "        \n",
    "    #Accuracy\n",
    "    plt.plot(history.history['acc'])\n",
    "    plt.plot(history.history['val_acc'])\n",
    "    plt.title('model accuracy')\n",
    "    plt.ylabel('accuracy')\n",
    "    plt.xlabel('epoch')\n",
    "    plt.legend(['train', 'test'], loc='upper left')\n",
    "    plt.show()\n",
    "    #loss\n",
    "    plt.plot(history.history['loss'])\n",
    "    plt.plot(history.history['val_loss'])\n",
    "    plt.title('model loss')\n",
    "    plt.ylabel('loss')\n",
    "    plt.xlabel('epoch')\n",
    "    plt.legend(['train', 'test'], loc='upper left')\n",
    "    plt.show()\n",
    "    \n",
    "    return model"
   ]
  },
  {
   "cell_type": "code",
   "execution_count": 108,
   "metadata": {},
   "outputs": [
    {
     "name": "stdout",
     "output_type": "stream",
     "text": [
      "(24925, 16)\n"
     ]
    },
    {
     "data": {
      "image/png": "[encoded data removed]",
      "text/plain": [
       "<matplotlib.figure.Figure at 0x7f49842bd940>"
      ]
     },
     "metadata": {},
     "output_type": "display_data"
    },
    {
     "data": {
      "image/png": "[encoded data removed]",
      "text/plain": [
       "<matplotlib.figure.Figure at 0x7f4984259c88>"
      ]
     },
     "metadata": {},
     "output_type": "display_data"
    },
    {
     "name": "stdout",
     "output_type": "stream",
     "text": [
      "経過時間： 2.0 分\n"
     ]
    }
   ],
   "source": [
    "global test_X, test_y, pred_y\n",
    "train_X, test_X, train_y, test_y = load_data()\n",
    "t1 = time.time() \n",
    "\n",
    "model = homework(train_X, train_y)\n",
    "\n",
    "t2 = time.time()\n",
    "elapsed_time = t2-t1\n",
    "print(\"経過時間：\", elapsed_time//60, \"分\")\n"
   ]
  },
  {
   "cell_type": "code",
   "execution_count": 115,
   "metadata": {},
   "outputs": [],
   "source": [
    "from IPython.display import SVG\n",
    "from keras.utils.vis_utils import model_to_dot\n",
    "\n",
    "pred_y = model.predict(test_X)\n",
    "pred_y = np.argmax(pred_y, 1)\n",
    "# SVG(model_to_dot(model, show_shapes=True).create(prog='dot', format='svg'))\n"
   ]
  },
  {
   "cell_type": "code",
   "execution_count": 110,
   "metadata": {},
   "outputs": [],
   "source": [
    "#model.save('keiba_cnn.h5')"
   ]
  },
  {
   "cell_type": "markdown",
   "metadata": {},
   "source": [
    "## 汎化性能の評価\n",
    "学習したモデルを使用してテスト用のデータで予測を行う。"
   ]
  },
  {
   "cell_type": "code",
   "execution_count": 111,
   "metadata": {},
   "outputs": [
    {
     "name": "stdout",
     "output_type": "stream",
     "text": [
      "0.587214891041\n"
     ]
    }
   ],
   "source": [
    "print(f1_score(np.argmax(test_y, 1), pred_y, average='macro'))"
   ]
  },
  {
   "cell_type": "markdown",
   "metadata": {},
   "source": [
    "結果を見るに、約50%の確率で予測が当たるらしい。"
   ]
  },
  {
   "cell_type": "markdown",
   "metadata": {},
   "source": [
    "## 混同行列\n",
    "今回の問題は、3位圏内に入る馬を予測するということなのだが、  \n",
    "全て3位圏内に入らないと予測されている可能性も考慮する必要がある。  \n",
    "\n",
    "競馬において、最大の目的は「買った馬券が当たる」ことなので、  \n",
    "混同行列に置いて、True Positiveがどのくらいの割合なのかを検証してみる。\n",
    "\n",
    "この場合、1=3位になるなので、`c_matrix[1][1]`の割合を計算する。"
   ]
  },
  {
   "cell_type": "code",
   "execution_count": 112,
   "metadata": {},
   "outputs": [
    {
     "name": "stdout",
     "output_type": "stream",
     "text": [
      "[[7610  195]\n",
      " [1790  405]]\n",
      "0.675\n"
     ]
    }
   ],
   "source": [
    "from sklearn.metrics import confusion_matrix\n",
    "c_matrix = confusion_matrix(np.argmax(test_y, 1), pred_y)\n",
    "print(c_matrix)\n",
    "print(c_matrix[1][1]/(c_matrix[0][1]+c_matrix[1][1]))"
   ]
  },
  {
   "cell_type": "markdown",
   "metadata": {},
   "source": [
    "この場合、混同行列でいう「正解ラベルが陽性」だけを見れば良いので、下記の計算をすることができる。  \n",
    "また、今回予測した複勝というのは約８割が1−2倍の配当であるため、下記の計算をするとほとんど利益が出ないことが予想される。  \n",
    "つまりモデルは良い結果では無いということがわかった。"
   ]
  },
  {
   "cell_type": "code",
   "execution_count": 114,
   "metadata": {},
   "outputs": [
    {
     "data": {
      "text/plain": [
       "750"
      ]
     },
     "execution_count": 114,
     "metadata": {},
     "output_type": "execute_result"
    }
   ],
   "source": [
    "# 利益 100-200の平均-コスト(100円)と仮定すると約50円の利益が期待される\n",
    "(c_matrix[1][1]*50)-(c_matrix[0][1]*100)"
   ]
  },
  {
   "cell_type": "markdown",
   "metadata": {},
   "source": [
    "## 考察\n",
    "なぜこのような結果になったのか、自分なりに考察して見る。\n",
    "- 正解ラベルが少なすぎた\n",
    "    - レースは15−18頭で行うものなので、圧倒的に正解ラベルが少なく、モデルがなるべく買わない方向に学習してしまったのではないか\n",
    "- 予測する対象がレース毎ではなく、馬毎だった\n",
    "    - 今回のように各馬毎に予測を行うと、全データの中では入賞圏内の実力にも関わらず、馬同士の実力が拮抗していたために負けてしまうということが発生していたのではないか\n",
    "- 説明変数の選定が甘かった\n",
    "    - ランダムフォレスト、ロジスティック回帰の変数重要度などで仮説検証をする必要がある。\n",
    "- モデルの設計が甘かった\n",
    "    - CNNを選定したことや、ハイパーパラメータの設定について、理解が及んでいない部分があったため良い結果が得られなかったのではないか\n",
    "    \n",
    "つまりデータとモデルの理解が足りていなかったことがわかる。    \n",
    "また、レース毎の相対的な実力差から順位を予想していなかったことから、実力の絶対値ではなく、レース毎に相対的な実力を算出するべきだったということがわかった。\n",
    "\n",
    "**以上のことから、今回の仮説である「各馬の絶対値による差はあるのか」という問いに対して正確に答えることができなかった。**  \n",
    "\n",
    "今回のこのモデルは「各馬の絶対値による差はあるのか」ではなく、「どんな状況でも勝利できる馬の特徴はあるのか」という問いだったことがわかった。  \n",
    "そしてそんな馬はいないということが結果から推察できる。"
   ]
  },
  {
   "cell_type": "markdown",
   "metadata": {},
   "source": [
    "## 反省\n",
    "今回の反省は、データを取得するスクリプトを作成するのにかなりの時間を費やしてしまったがために、モデルの設計や改善が疎かになってしまったことだ。  \n",
    "また、今回の課題では満足に着手できなかったので、次回チャレンジする際には下記の項目を考慮したモデルを構築したい。\n",
    "- 血統（遺伝アルゴリズム）\n",
    "- 期待値を元にした「意思決定」を含めた予測\n",
    "- 馬の特徴を元にした距離適性や馬場の相性予測\n",
    "- 騎手と馬の相性を元にした総合評価\n",
    "- 他の機械学習手法を比較分析したモデルの解釈"
   ]
  },
  {
   "cell_type": "markdown",
   "metadata": {},
   "source": [
    "参考  \n",
    "- https://alphaimpact.jp/2017/05/04/perceptron/  \n",
    "- http://sleeping-micchi.hatenablog.com/entry/2016/09/15/004221  \n",
    "- http://www.umameshi.com/info/%E7%AB%B6%E9%A6%AC-%E8%A4%87%E5%8B%9D-%E5%B9%B3%E5%9D%87%E9%85%8D%E5%BD%93-%E3%82%AA%E3%83%83%E3%82%BA-%E8%A6%8B%E6%96%B9-%E4%BB%95%E7%B5%84%E3%81%BF.html  \n",
    "- https://keras.io/ja/metrics/#_1"
   ]
  }
 ],
 "metadata": {
  "kernelspec": {
   "display_name": "Python 3",
   "language": "python",
   "name": "python3"
  },
  "language_info": {
   "codemirror_mode": {
    "name": "ipython",
    "version": 3
   },
   "file_extension": ".py",
   "mimetype": "text/x-python",
   "name": "python",
   "nbconvert_exporter": "python",
   "pygments_lexer": "ipython3",
   "version": "3.5.2"
  }
 },
 "nbformat": 4,
 "nbformat_minor": 2
}
