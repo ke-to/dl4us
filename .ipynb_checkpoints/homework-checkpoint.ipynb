{
 "cells": [
  {
   "cell_type": "markdown",
   "metadata": {},
   "source": [
    "# 競馬において、競走馬の成長はレース結果に影響するのか？"
   ]
  },
  {
   "cell_type": "markdown",
   "metadata": {},
   "source": [
    "使用するデータは、 http://www.netkeiba.com/ の2006/1/1から2018/3/18までのレースデータをスクレイピングしてお借りした。"
   ]
  },
  {
   "cell_type": "markdown",
   "metadata": {},
   "source": [
    "## 分析の目的\n",
    "競馬の勝敗予測は様々な研究や方法が開発されている。\n",
    "- 1着、複勝予想（二値分類問題）\n",
    "- 順位予想（他クラス分類問題）\n",
    "- 走破タイム、速度予想（回帰問題）\n",
    "など\n",
    "\n"
   ]
  },
  {
   "cell_type": "code",
   "execution_count": 1,
   "metadata": {
    "collapsed": false
   },
   "outputs": [
    {
     "name": "stderr",
     "output_type": "stream",
     "text": [
      "Using TensorFlow backend.\n"
     ]
    }
   ],
   "source": [
    "import os\n",
    "import re\n",
    "import time\n",
    "\n",
    "import numpy as np\n",
    "import pandas as pd\n",
    "import scipy as sp\n",
    "from pandas import DataFrame, Series\n",
    "\n",
    "from keras.datasets import cifar10\n",
    "from sklearn.model_selection import train_test_split\n",
    "from sklearn.metrics import f1_score\n",
    "\n",
    "data = pd.read_csv(\"/root/userspace/homework/race_raw.csv\",low_memory=False, header=0)\n",
    "data = data[data.round_name >= 9]"
   ]
  },
  {
   "cell_type": "markdown",
   "metadata": {},
   "source": [
    "予測に使用するデータは、出走前に把握することのできる指標を選定。\n",
    "過去に出走経験のある９レース以降のデータで予測することとする。"
   ]
  },
  {
   "cell_type": "markdown",
   "metadata": {},
   "source": [
    "## 仮説\n",
    "これこれこうあるべきなので、今回は2位以内に入賞するつまり複勝圏内に入るかどうかを予測する。"
   ]
  },
  {
   "cell_type": "markdown",
   "metadata": {},
   "source": [
    "## 指標\n",
    "予測に使用する指標は出走前の情報と、過去の実績を使用する。  \n",
    "この時、当該レースの結果を示す指標は入れないように注意する。\n",
    "\n",
    "| 特徴量名 | カラム名 | 説明 |\n",
    "|:-----------|------------|------------|\n",
    "|枠番       | frame_nunber        | 出走する枠番号         |\n",
    "| 馬番     | horse_number      | 出走する馬番号       |\n",
    "| 性別       | sex        | 牡、牝のダミー変数<br>※セン馬は数が少ないので除外         |\n",
    "| 馬齢         | age          | 馬の年齢           |\n",
    "| 単勝オッズ    | win     | 馬券の倍率      |\n",
    "| 体重の増減    | weight_pm     | kg      |\n",
    "| 斤量    | basis_weight_index     | 負担重量をレース毎に正規化      |\n",
    "| 出走回数    | cnt_cumsum     | 過去の出走回数      |\n",
    "| 1位率    | x1st_ratio_lag     | 過去1位だった割合      |\n",
    "| 2位率    | x2nd_ratio_lag     | 過去2位だった割合      |\n",
    "| 3位率    | x3rd_ratio_lag     | 過去3位だった割合     |\n",
    "| 3位内率    | nyusho_ratio     | 過去3位以内だった割合      |\n",
    "| 複勝率    | x1st_and_2nd_ratio     | 過去1位もしくは2位だった割合     |\n",
    "| 休息期間    | last_date_diff     | 出走日-過去のレース日      |\n",
    "| 走破タイム    | race_time_index_normalize_lag     | 走破タイムをレース毎に正規化      |\n",
    "| 前回1位    | order_of_arrival_lag_1     | 1=1位, 0=それ以外      |\n",
    "| 前回2位    | order_of_arrival_lag_2     | 1=2位, 0=それ以外     |\n",
    "| 前回3位    | order_of_arrival_lag_3     | 1=3位, 0=それ以外     |\n",
    "| 前回の着差    | wearing_diff_lag_1     | 1位とのタイム差      |\n",
    "| 過去3回の着差    | wearing_diff_ave_3     | 過去3回の着差の平均      |\n",
    "| 休息期間の平均    | wearing_diff_ave_sumple     | 休息期間の平均      |\n",
    "| 前回と同じ騎手    | is_jockey_some     | 1=同じ, 0=それ以外      |\n"
   ]
  },
  {
   "cell_type": "markdown",
   "metadata": {},
   "source": [
    "## データの前処理\n",
    "今回使用するデータだけのDFを作成し、トレーニング用のデータ（train_X, train_y）とテスト用のデータ（test_X, test_y）を準備する。\n"
   ]
  },
  {
   "cell_type": "code",
   "execution_count": 2,
   "metadata": {
    "collapsed": true
   },
   "outputs": [],
   "source": [
    "# data.columns"
   ]
  },
  {
   "cell_type": "code",
   "execution_count": 12,
   "metadata": {
    "collapsed": true
   },
   "outputs": [],
   "source": [
    "def load_data():\n",
    "    Y = np.eye(2)[data[\"below_is_3\"].values.astype('int32').flatten()]\n",
    "    X = data[['frame_nunber', 'horse_number', 'sex',\n",
    "           'age', 'win', 'weight_pm', 'basis_weight_index', 'cnt_cumsum', 'x1st_ratio_lag',\n",
    "           'x2nd_ratio_lag', 'x3rd_ratio_lag', 'nyusho_ratio',\n",
    "           'x1st_and_2nd_ratio', 'last_date_diff', 'race_time_index_normalize_lag',\n",
    "           'order_of_arrival_lag_1', 'order_of_arrival_lag_2',\n",
    "           'order_of_arrival_lag_3', 'wearing_diff_lag_1', 'wearing_diff_ave_3',\n",
    "           'wearing_diff_ave_sumple', 'is_jockey_some']]\n",
    "    # print(Y)\n",
    "    # print(len(X.columns))\n",
    "    train_X, test_X, train_y, test_y = train_test_split(X, Y,\n",
    "                                                        test_size=10000)\n",
    "    return (train_X, test_X, train_y, test_y)\n"
   ]
  },
  {
   "cell_type": "markdown",
   "metadata": {},
   "source": [
    "## 学習\n",
    "前処理を行ったデータに対して学習を行う。  \n",
    "今回は時系列である「血統」や「馬の成長」は考慮せずCNNでモデルを作成する。"
   ]
  },
  {
   "cell_type": "code",
   "execution_count": 43,
   "metadata": {
    "collapsed": true
   },
   "outputs": [],
   "source": [
    "def homework(train_X, train_y):\n",
    "    import keras\n",
    "    from keras.models import Sequential\n",
    "    from keras.layers import Dense, Conv2D, MaxPooling2D, Flatten, Input, Activation, Dropout, BatchNormalization\n",
    "    import matplotlib.pyplot as plt\n",
    "    from keras import backend as K\n",
    "    \n",
    "    train_X, valid_X, train_y, valid_y = train_test_split(\n",
    "    train_X, train_y, test_size=1000)\n",
    "    print(train_X.shape)\n",
    "\n",
    "    def swish(x):\n",
    "        return x * K.sigmoid(x)\n",
    "\n",
    "    model = Sequential()\n",
    "    \n",
    "    model.add(Dense(484, input_shape=(22,), activation='relu'))\n",
    "    # model.add(Activation(swish))\n",
    "    model.add(BatchNormalization())\n",
    "    model.add(Dropout(0.5))\n",
    "    model.add(Dense(242, activation='relu'))\n",
    "    # model.add(Activation(swish))\n",
    "    model.add(BatchNormalization())\n",
    "    model.add(Dropout(0.5))\n",
    "    model.add(Dense(22, activation='relu'))\n",
    "    # model.add(Activation(swish))\n",
    "    model.add(BatchNormalization())\n",
    "    model.add(Dropout(0.2))\n",
    "    model.add(Dense(22, activation='relu'))\n",
    "    # model.add(Activation(swish))\n",
    "    model.add(BatchNormalization())\n",
    "    model.add(Dropout(0.2))\n",
    "    model.add(Dense(2, activation='softmax'))\n",
    "    \n",
    "    opt = keras.optimizers.rmsprop(lr=0.0001, decay=1e-6)\n",
    "\n",
    "    model.compile(loss='categorical_crossentropy', optimizer=opt, metrics=['accuracy'])\n",
    "        \n",
    "    history = model.fit(train_X, train_y, batch_size=144, verbose=0, epochs=100, validation_data=(valid_X, valid_y))\n",
    "        \n",
    "    #Accuracy\n",
    "    plt.plot(history.history['acc'])\n",
    "    plt.plot(history.history['val_acc'])\n",
    "    plt.title('model accuracy')\n",
    "    plt.ylabel('accuracy')\n",
    "    plt.xlabel('epoch')\n",
    "    plt.legend(['train', 'test'], loc='upper left')\n",
    "    plt.show()\n",
    "    #loss\n",
    "    plt.plot(history.history['loss'])\n",
    "    plt.plot(history.history['val_loss'])\n",
    "    plt.title('model loss')\n",
    "    plt.ylabel('loss')\n",
    "    plt.xlabel('epoch')\n",
    "    plt.legend(['train', 'test'], loc='upper left')\n",
    "    plt.show()\n",
    "    \n",
    "    return model"
   ]
  },
  {
   "cell_type": "code",
   "execution_count": 44,
   "metadata": {
    "collapsed": false
   },
   "outputs": [
    {
     "name": "stdout",
     "output_type": "stream",
     "text": [
      "(24925, 22)\n"
     ]
    },
    {
     "data": {
      "image/png": "[encoded data removed]",
      "text/plain": [
       "<matplotlib.figure.Figure at 0x7fe42ba40eb8>"
      ]
     },
     "metadata": {},
     "output_type": "display_data"
    },
    {
     "data": {
      "image/png": "[encoded data removed]",
      "text/plain": [
       "<matplotlib.figure.Figure at 0x7fe34fe4b8d0>"
      ]
     },
     "metadata": {},
     "output_type": "display_data"
    },
    {
     "name": "stdout",
     "output_type": "stream",
     "text": [
      "経過時間： 3.0 分\n"
     ]
    }
   ],
   "source": [
    "global test_X, test_y, pred_y\n",
    "train_X, test_X, train_y, test_y = load_data()\n",
    "t1 = time.time() \n",
    "\n",
    "model = homework(train_X, train_y)\n",
    "\n",
    "t2 = time.time()\n",
    "elapsed_time = t2-t1\n",
    "print(\"経過時間：\", elapsed_time//60, \"分\")\n"
   ]
  },
  {
   "cell_type": "code",
   "execution_count": 52,
   "metadata": {
    "collapsed": false
   },
   "outputs": [
    {
     "data": {
      "image/svg+xml": [
       "<svg height=\"1134pt\" viewBox=\"0.00 0.00 518.00 1134.00\" width=\"518pt\" xmlns=\"http://www.w3.org/2000/svg\" xmlns:xlink=\"http://www.w3.org/1999/xlink\">\n",
       "<g class=\"graph\" id=\"graph0\" transform=\"scale(1 1) rotate(0) translate(4 1130)\">\n",
       "<title>G</title>\n",
       "<polygon fill=\"white\" points=\"-4,4 -4,-1130 514,-1130 514,4 -4,4\" stroke=\"none\"/>\n",
       "<!-- 140617908024712 -->\n",
       "<g class=\"node\" id=\"node1\"><title>140617908024712</title>\n",
       "<polygon fill=\"none\" points=\"66,-1079.5 66,-1125.5 444,-1125.5 444,-1079.5 66,-1079.5\" stroke=\"black\"/>\n",
       "<text font-family=\"Times,serif\" font-size=\"14.00\" text-anchor=\"middle\" x=\"175\" y=\"-1098.8\">dense_66_input: InputLayer</text>\n",
       "<polyline fill=\"none\" points=\"284,-1079.5 284,-1125.5 \" stroke=\"black\"/>\n",
       "<text font-family=\"Times,serif\" font-size=\"14.00\" text-anchor=\"middle\" x=\"318\" y=\"-1110.3\">input:</text>\n",
       "<polyline fill=\"none\" points=\"284,-1102.5 352,-1102.5 \" stroke=\"black\"/>\n",
       "<text font-family=\"Times,serif\" font-size=\"14.00\" text-anchor=\"middle\" x=\"318\" y=\"-1087.3\">output:</text>\n",
       "<polyline fill=\"none\" points=\"352,-1079.5 352,-1125.5 \" stroke=\"black\"/>\n",
       "<text font-family=\"Times,serif\" font-size=\"14.00\" text-anchor=\"middle\" x=\"398\" y=\"-1110.3\">(None, 22)</text>\n",
       "<polyline fill=\"none\" points=\"352,-1102.5 444,-1102.5 \" stroke=\"black\"/>\n",
       "<text font-family=\"Times,serif\" font-size=\"14.00\" text-anchor=\"middle\" x=\"398\" y=\"-1087.3\">(None, 22)</text>\n",
       "</g>\n",
       "<!-- 140617908026560 -->\n",
       "<g class=\"node\" id=\"node2\"><title>140617908026560</title>\n",
       "<polygon fill=\"none\" points=\"102,-996.5 102,-1042.5 408,-1042.5 408,-996.5 102,-996.5\" stroke=\"black\"/>\n",
       "<text font-family=\"Times,serif\" font-size=\"14.00\" text-anchor=\"middle\" x=\"170.5\" y=\"-1015.8\">dense_66: Dense</text>\n",
       "<polyline fill=\"none\" points=\"239,-996.5 239,-1042.5 \" stroke=\"black\"/>\n",
       "<text font-family=\"Times,serif\" font-size=\"14.00\" text-anchor=\"middle\" x=\"273\" y=\"-1027.3\">input:</text>\n",
       "<polyline fill=\"none\" points=\"239,-1019.5 307,-1019.5 \" stroke=\"black\"/>\n",
       "<text font-family=\"Times,serif\" font-size=\"14.00\" text-anchor=\"middle\" x=\"273\" y=\"-1004.3\">output:</text>\n",
       "<polyline fill=\"none\" points=\"307,-996.5 307,-1042.5 \" stroke=\"black\"/>\n",
       "<text font-family=\"Times,serif\" font-size=\"14.00\" text-anchor=\"middle\" x=\"357.5\" y=\"-1027.3\">(None, 22)</text>\n",
       "<polyline fill=\"none\" points=\"307,-1019.5 408,-1019.5 \" stroke=\"black\"/>\n",
       "<text font-family=\"Times,serif\" font-size=\"14.00\" text-anchor=\"middle\" x=\"357.5\" y=\"-1004.3\">(None, 484)</text>\n",
       "</g>\n",
       "<!-- 140617908024712&#45;&gt;140617908026560 -->\n",
       "<g class=\"edge\" id=\"edge1\"><title>140617908024712-&gt;140617908026560</title>\n",
       "<path d=\"M255,-1079.37C255,-1071.15 255,-1061.66 255,-1052.73\" fill=\"none\" stroke=\"black\"/>\n",
       "<polygon fill=\"black\" points=\"258.5,-1052.61 255,-1042.61 251.5,-1052.61 258.5,-1052.61\" stroke=\"black\"/>\n",
       "</g>\n",
       "<!-- 140617908025944 -->\n",
       "<g class=\"node\" id=\"node3\"><title>140617908025944</title>\n",
       "<polygon fill=\"none\" points=\"0,-913.5 0,-959.5 510,-959.5 510,-913.5 0,-913.5\" stroke=\"black\"/>\n",
       "<text font-family=\"Times,serif\" font-size=\"14.00\" text-anchor=\"middle\" x=\"170.5\" y=\"-932.8\">batch_normalization_53: BatchNormalization</text>\n",
       "<polyline fill=\"none\" points=\"341,-913.5 341,-959.5 \" stroke=\"black\"/>\n",
       "<text font-family=\"Times,serif\" font-size=\"14.00\" text-anchor=\"middle\" x=\"375\" y=\"-944.3\">input:</text>\n",
       "<polyline fill=\"none\" points=\"341,-936.5 409,-936.5 \" stroke=\"black\"/>\n",
       "<text font-family=\"Times,serif\" font-size=\"14.00\" text-anchor=\"middle\" x=\"375\" y=\"-921.3\">output:</text>\n",
       "<polyline fill=\"none\" points=\"409,-913.5 409,-959.5 \" stroke=\"black\"/>\n",
       "<text font-family=\"Times,serif\" font-size=\"14.00\" text-anchor=\"middle\" x=\"459.5\" y=\"-944.3\">(None, 484)</text>\n",
       "<polyline fill=\"none\" points=\"409,-936.5 510,-936.5 \" stroke=\"black\"/>\n",
       "<text font-family=\"Times,serif\" font-size=\"14.00\" text-anchor=\"middle\" x=\"459.5\" y=\"-921.3\">(None, 484)</text>\n",
       "</g>\n",
       "<!-- 140617908026560&#45;&gt;140617908025944 -->\n",
       "<g class=\"edge\" id=\"edge2\"><title>140617908026560-&gt;140617908025944</title>\n",
       "<path d=\"M255,-996.366C255,-988.152 255,-978.658 255,-969.725\" fill=\"none\" stroke=\"black\"/>\n",
       "<polygon fill=\"black\" points=\"258.5,-969.607 255,-959.607 251.5,-969.607 258.5,-969.607\" stroke=\"black\"/>\n",
       "</g>\n",
       "<!-- 140614309461968 -->\n",
       "<g class=\"node\" id=\"node4\"><title>140614309461968</title>\n",
       "<polygon fill=\"none\" points=\"87.5,-830.5 87.5,-876.5 422.5,-876.5 422.5,-830.5 87.5,-830.5\" stroke=\"black\"/>\n",
       "<text font-family=\"Times,serif\" font-size=\"14.00\" text-anchor=\"middle\" x=\"170.5\" y=\"-849.8\">dropout_53: Dropout</text>\n",
       "<polyline fill=\"none\" points=\"253.5,-830.5 253.5,-876.5 \" stroke=\"black\"/>\n",
       "<text font-family=\"Times,serif\" font-size=\"14.00\" text-anchor=\"middle\" x=\"287.5\" y=\"-861.3\">input:</text>\n",
       "<polyline fill=\"none\" points=\"253.5,-853.5 321.5,-853.5 \" stroke=\"black\"/>\n",
       "<text font-family=\"Times,serif\" font-size=\"14.00\" text-anchor=\"middle\" x=\"287.5\" y=\"-838.3\">output:</text>\n",
       "<polyline fill=\"none\" points=\"321.5,-830.5 321.5,-876.5 \" stroke=\"black\"/>\n",
       "<text font-family=\"Times,serif\" font-size=\"14.00\" text-anchor=\"middle\" x=\"372\" y=\"-861.3\">(None, 484)</text>\n",
       "<polyline fill=\"none\" points=\"321.5,-853.5 422.5,-853.5 \" stroke=\"black\"/>\n",
       "<text font-family=\"Times,serif\" font-size=\"14.00\" text-anchor=\"middle\" x=\"372\" y=\"-838.3\">(None, 484)</text>\n",
       "</g>\n",
       "<!-- 140617908025944&#45;&gt;140614309461968 -->\n",
       "<g class=\"edge\" id=\"edge3\"><title>140617908025944-&gt;140614309461968</title>\n",
       "<path d=\"M255,-913.366C255,-905.152 255,-895.658 255,-886.725\" fill=\"none\" stroke=\"black\"/>\n",
       "<polygon fill=\"black\" points=\"258.5,-886.607 255,-876.607 251.5,-886.607 258.5,-886.607\" stroke=\"black\"/>\n",
       "</g>\n",
       "<!-- 140617908083624 -->\n",
       "<g class=\"node\" id=\"node5\"><title>140617908083624</title>\n",
       "<polygon fill=\"none\" points=\"102,-747.5 102,-793.5 408,-793.5 408,-747.5 102,-747.5\" stroke=\"black\"/>\n",
       "<text font-family=\"Times,serif\" font-size=\"14.00\" text-anchor=\"middle\" x=\"170.5\" y=\"-766.8\">dense_67: Dense</text>\n",
       "<polyline fill=\"none\" points=\"239,-747.5 239,-793.5 \" stroke=\"black\"/>\n",
       "<text font-family=\"Times,serif\" font-size=\"14.00\" text-anchor=\"middle\" x=\"273\" y=\"-778.3\">input:</text>\n",
       "<polyline fill=\"none\" points=\"239,-770.5 307,-770.5 \" stroke=\"black\"/>\n",
       "<text font-family=\"Times,serif\" font-size=\"14.00\" text-anchor=\"middle\" x=\"273\" y=\"-755.3\">output:</text>\n",
       "<polyline fill=\"none\" points=\"307,-747.5 307,-793.5 \" stroke=\"black\"/>\n",
       "<text font-family=\"Times,serif\" font-size=\"14.00\" text-anchor=\"middle\" x=\"357.5\" y=\"-778.3\">(None, 484)</text>\n",
       "<polyline fill=\"none\" points=\"307,-770.5 408,-770.5 \" stroke=\"black\"/>\n",
       "<text font-family=\"Times,serif\" font-size=\"14.00\" text-anchor=\"middle\" x=\"357.5\" y=\"-755.3\">(None, 242)</text>\n",
       "</g>\n",
       "<!-- 140614309461968&#45;&gt;140617908083624 -->\n",
       "<g class=\"edge\" id=\"edge4\"><title>140614309461968-&gt;140617908083624</title>\n",
       "<path d=\"M255,-830.366C255,-822.152 255,-812.658 255,-803.725\" fill=\"none\" stroke=\"black\"/>\n",
       "<polygon fill=\"black\" points=\"258.5,-803.607 255,-793.607 251.5,-803.607 258.5,-803.607\" stroke=\"black\"/>\n",
       "</g>\n",
       "<!-- 140617908564040 -->\n",
       "<g class=\"node\" id=\"node6\"><title>140617908564040</title>\n",
       "<polygon fill=\"none\" points=\"0,-664.5 0,-710.5 510,-710.5 510,-664.5 0,-664.5\" stroke=\"black\"/>\n",
       "<text font-family=\"Times,serif\" font-size=\"14.00\" text-anchor=\"middle\" x=\"170.5\" y=\"-683.8\">batch_normalization_54: BatchNormalization</text>\n",
       "<polyline fill=\"none\" points=\"341,-664.5 341,-710.5 \" stroke=\"black\"/>\n",
       "<text font-family=\"Times,serif\" font-size=\"14.00\" text-anchor=\"middle\" x=\"375\" y=\"-695.3\">input:</text>\n",
       "<polyline fill=\"none\" points=\"341,-687.5 409,-687.5 \" stroke=\"black\"/>\n",
       "<text font-family=\"Times,serif\" font-size=\"14.00\" text-anchor=\"middle\" x=\"375\" y=\"-672.3\">output:</text>\n",
       "<polyline fill=\"none\" points=\"409,-664.5 409,-710.5 \" stroke=\"black\"/>\n",
       "<text font-family=\"Times,serif\" font-size=\"14.00\" text-anchor=\"middle\" x=\"459.5\" y=\"-695.3\">(None, 242)</text>\n",
       "<polyline fill=\"none\" points=\"409,-687.5 510,-687.5 \" stroke=\"black\"/>\n",
       "<text font-family=\"Times,serif\" font-size=\"14.00\" text-anchor=\"middle\" x=\"459.5\" y=\"-672.3\">(None, 242)</text>\n",
       "</g>\n",
       "<!-- 140617908083624&#45;&gt;140617908564040 -->\n",
       "<g class=\"edge\" id=\"edge5\"><title>140617908083624-&gt;140617908564040</title>\n",
       "<path d=\"M255,-747.366C255,-739.152 255,-729.658 255,-720.725\" fill=\"none\" stroke=\"black\"/>\n",
       "<polygon fill=\"black\" points=\"258.5,-720.607 255,-710.607 251.5,-720.607 258.5,-720.607\" stroke=\"black\"/>\n",
       "</g>\n",
       "<!-- 140614274633120 -->\n",
       "<g class=\"node\" id=\"node7\"><title>140614274633120</title>\n",
       "<polygon fill=\"none\" points=\"87.5,-581.5 87.5,-627.5 422.5,-627.5 422.5,-581.5 87.5,-581.5\" stroke=\"black\"/>\n",
       "<text font-family=\"Times,serif\" font-size=\"14.00\" text-anchor=\"middle\" x=\"170.5\" y=\"-600.8\">dropout_54: Dropout</text>\n",
       "<polyline fill=\"none\" points=\"253.5,-581.5 253.5,-627.5 \" stroke=\"black\"/>\n",
       "<text font-family=\"Times,serif\" font-size=\"14.00\" text-anchor=\"middle\" x=\"287.5\" y=\"-612.3\">input:</text>\n",
       "<polyline fill=\"none\" points=\"253.5,-604.5 321.5,-604.5 \" stroke=\"black\"/>\n",
       "<text font-family=\"Times,serif\" font-size=\"14.00\" text-anchor=\"middle\" x=\"287.5\" y=\"-589.3\">output:</text>\n",
       "<polyline fill=\"none\" points=\"321.5,-581.5 321.5,-627.5 \" stroke=\"black\"/>\n",
       "<text font-family=\"Times,serif\" font-size=\"14.00\" text-anchor=\"middle\" x=\"372\" y=\"-612.3\">(None, 242)</text>\n",
       "<polyline fill=\"none\" points=\"321.5,-604.5 422.5,-604.5 \" stroke=\"black\"/>\n",
       "<text font-family=\"Times,serif\" font-size=\"14.00\" text-anchor=\"middle\" x=\"372\" y=\"-589.3\">(None, 242)</text>\n",
       "</g>\n",
       "<!-- 140617908564040&#45;&gt;140614274633120 -->\n",
       "<g class=\"edge\" id=\"edge6\"><title>140617908564040-&gt;140614274633120</title>\n",
       "<path d=\"M255,-664.366C255,-656.152 255,-646.658 255,-637.725\" fill=\"none\" stroke=\"black\"/>\n",
       "<polygon fill=\"black\" points=\"258.5,-637.607 255,-627.607 251.5,-637.607 258.5,-637.607\" stroke=\"black\"/>\n",
       "</g>\n",
       "<!-- 140617908677824 -->\n",
       "<g class=\"node\" id=\"node8\"><title>140617908677824</title>\n",
       "<polygon fill=\"none\" points=\"102,-498.5 102,-544.5 408,-544.5 408,-498.5 102,-498.5\" stroke=\"black\"/>\n",
       "<text font-family=\"Times,serif\" font-size=\"14.00\" text-anchor=\"middle\" x=\"170.5\" y=\"-517.8\">dense_68: Dense</text>\n",
       "<polyline fill=\"none\" points=\"239,-498.5 239,-544.5 \" stroke=\"black\"/>\n",
       "<text font-family=\"Times,serif\" font-size=\"14.00\" text-anchor=\"middle\" x=\"273\" y=\"-529.3\">input:</text>\n",
       "<polyline fill=\"none\" points=\"239,-521.5 307,-521.5 \" stroke=\"black\"/>\n",
       "<text font-family=\"Times,serif\" font-size=\"14.00\" text-anchor=\"middle\" x=\"273\" y=\"-506.3\">output:</text>\n",
       "<polyline fill=\"none\" points=\"307,-498.5 307,-544.5 \" stroke=\"black\"/>\n",
       "<text font-family=\"Times,serif\" font-size=\"14.00\" text-anchor=\"middle\" x=\"357.5\" y=\"-529.3\">(None, 242)</text>\n",
       "<polyline fill=\"none\" points=\"307,-521.5 408,-521.5 \" stroke=\"black\"/>\n",
       "<text font-family=\"Times,serif\" font-size=\"14.00\" text-anchor=\"middle\" x=\"357.5\" y=\"-506.3\">(None, 22)</text>\n",
       "</g>\n",
       "<!-- 140614274633120&#45;&gt;140617908677824 -->\n",
       "<g class=\"edge\" id=\"edge7\"><title>140614274633120-&gt;140617908677824</title>\n",
       "<path d=\"M255,-581.366C255,-573.152 255,-563.658 255,-554.725\" fill=\"none\" stroke=\"black\"/>\n",
       "<polygon fill=\"black\" points=\"258.5,-554.607 255,-544.607 251.5,-554.607 258.5,-554.607\" stroke=\"black\"/>\n",
       "</g>\n",
       "<!-- 140614274611632 -->\n",
       "<g class=\"node\" id=\"node9\"><title>140614274611632</title>\n",
       "<polygon fill=\"none\" points=\"4.5,-415.5 4.5,-461.5 505.5,-461.5 505.5,-415.5 4.5,-415.5\" stroke=\"black\"/>\n",
       "<text font-family=\"Times,serif\" font-size=\"14.00\" text-anchor=\"middle\" x=\"175\" y=\"-434.8\">batch_normalization_55: BatchNormalization</text>\n",
       "<polyline fill=\"none\" points=\"345.5,-415.5 345.5,-461.5 \" stroke=\"black\"/>\n",
       "<text font-family=\"Times,serif\" font-size=\"14.00\" text-anchor=\"middle\" x=\"379.5\" y=\"-446.3\">input:</text>\n",
       "<polyline fill=\"none\" points=\"345.5,-438.5 413.5,-438.5 \" stroke=\"black\"/>\n",
       "<text font-family=\"Times,serif\" font-size=\"14.00\" text-anchor=\"middle\" x=\"379.5\" y=\"-423.3\">output:</text>\n",
       "<polyline fill=\"none\" points=\"413.5,-415.5 413.5,-461.5 \" stroke=\"black\"/>\n",
       "<text font-family=\"Times,serif\" font-size=\"14.00\" text-anchor=\"middle\" x=\"459.5\" y=\"-446.3\">(None, 22)</text>\n",
       "<polyline fill=\"none\" points=\"413.5,-438.5 505.5,-438.5 \" stroke=\"black\"/>\n",
       "<text font-family=\"Times,serif\" font-size=\"14.00\" text-anchor=\"middle\" x=\"459.5\" y=\"-423.3\">(None, 22)</text>\n",
       "</g>\n",
       "<!-- 140617908677824&#45;&gt;140614274611632 -->\n",
       "<g class=\"edge\" id=\"edge8\"><title>140617908677824-&gt;140614274611632</title>\n",
       "<path d=\"M255,-498.366C255,-490.152 255,-480.658 255,-471.725\" fill=\"none\" stroke=\"black\"/>\n",
       "<polygon fill=\"black\" points=\"258.5,-471.607 255,-461.607 251.5,-471.607 258.5,-471.607\" stroke=\"black\"/>\n",
       "</g>\n",
       "<!-- 140614339567912 -->\n",
       "<g class=\"node\" id=\"node10\"><title>140614339567912</title>\n",
       "<polygon fill=\"none\" points=\"92,-332.5 92,-378.5 418,-378.5 418,-332.5 92,-332.5\" stroke=\"black\"/>\n",
       "<text font-family=\"Times,serif\" font-size=\"14.00\" text-anchor=\"middle\" x=\"175\" y=\"-351.8\">dropout_55: Dropout</text>\n",
       "<polyline fill=\"none\" points=\"258,-332.5 258,-378.5 \" stroke=\"black\"/>\n",
       "<text font-family=\"Times,serif\" font-size=\"14.00\" text-anchor=\"middle\" x=\"292\" y=\"-363.3\">input:</text>\n",
       "<polyline fill=\"none\" points=\"258,-355.5 326,-355.5 \" stroke=\"black\"/>\n",
       "<text font-family=\"Times,serif\" font-size=\"14.00\" text-anchor=\"middle\" x=\"292\" y=\"-340.3\">output:</text>\n",
       "<polyline fill=\"none\" points=\"326,-332.5 326,-378.5 \" stroke=\"black\"/>\n",
       "<text font-family=\"Times,serif\" font-size=\"14.00\" text-anchor=\"middle\" x=\"372\" y=\"-363.3\">(None, 22)</text>\n",
       "<polyline fill=\"none\" points=\"326,-355.5 418,-355.5 \" stroke=\"black\"/>\n",
       "<text font-family=\"Times,serif\" font-size=\"14.00\" text-anchor=\"middle\" x=\"372\" y=\"-340.3\">(None, 22)</text>\n",
       "</g>\n",
       "<!-- 140614274611632&#45;&gt;140614339567912 -->\n",
       "<g class=\"edge\" id=\"edge9\"><title>140614274611632-&gt;140614339567912</title>\n",
       "<path d=\"M255,-415.366C255,-407.152 255,-397.658 255,-388.725\" fill=\"none\" stroke=\"black\"/>\n",
       "<polygon fill=\"black\" points=\"258.5,-388.607 255,-378.607 251.5,-388.607 258.5,-388.607\" stroke=\"black\"/>\n",
       "</g>\n",
       "<!-- 140614309282648 -->\n",
       "<g class=\"node\" id=\"node11\"><title>140614309282648</title>\n",
       "<polygon fill=\"none\" points=\"106.5,-249.5 106.5,-295.5 403.5,-295.5 403.5,-249.5 106.5,-249.5\" stroke=\"black\"/>\n",
       "<text font-family=\"Times,serif\" font-size=\"14.00\" text-anchor=\"middle\" x=\"175\" y=\"-268.8\">dense_69: Dense</text>\n",
       "<polyline fill=\"none\" points=\"243.5,-249.5 243.5,-295.5 \" stroke=\"black\"/>\n",
       "<text font-family=\"Times,serif\" font-size=\"14.00\" text-anchor=\"middle\" x=\"277.5\" y=\"-280.3\">input:</text>\n",
       "<polyline fill=\"none\" points=\"243.5,-272.5 311.5,-272.5 \" stroke=\"black\"/>\n",
       "<text font-family=\"Times,serif\" font-size=\"14.00\" text-anchor=\"middle\" x=\"277.5\" y=\"-257.3\">output:</text>\n",
       "<polyline fill=\"none\" points=\"311.5,-249.5 311.5,-295.5 \" stroke=\"black\"/>\n",
       "<text font-family=\"Times,serif\" font-size=\"14.00\" text-anchor=\"middle\" x=\"357.5\" y=\"-280.3\">(None, 22)</text>\n",
       "<polyline fill=\"none\" points=\"311.5,-272.5 403.5,-272.5 \" stroke=\"black\"/>\n",
       "<text font-family=\"Times,serif\" font-size=\"14.00\" text-anchor=\"middle\" x=\"357.5\" y=\"-257.3\">(None, 22)</text>\n",
       "</g>\n",
       "<!-- 140614339567912&#45;&gt;140614309282648 -->\n",
       "<g class=\"edge\" id=\"edge10\"><title>140614339567912-&gt;140614309282648</title>\n",
       "<path d=\"M255,-332.366C255,-324.152 255,-314.658 255,-305.725\" fill=\"none\" stroke=\"black\"/>\n",
       "<polygon fill=\"black\" points=\"258.5,-305.607 255,-295.607 251.5,-305.607 258.5,-305.607\" stroke=\"black\"/>\n",
       "</g>\n",
       "<!-- 140614337875920 -->\n",
       "<g class=\"node\" id=\"node12\"><title>140614337875920</title>\n",
       "<polygon fill=\"none\" points=\"4.5,-166.5 4.5,-212.5 505.5,-212.5 505.5,-166.5 4.5,-166.5\" stroke=\"black\"/>\n",
       "<text font-family=\"Times,serif\" font-size=\"14.00\" text-anchor=\"middle\" x=\"175\" y=\"-185.8\">batch_normalization_56: BatchNormalization</text>\n",
       "<polyline fill=\"none\" points=\"345.5,-166.5 345.5,-212.5 \" stroke=\"black\"/>\n",
       "<text font-family=\"Times,serif\" font-size=\"14.00\" text-anchor=\"middle\" x=\"379.5\" y=\"-197.3\">input:</text>\n",
       "<polyline fill=\"none\" points=\"345.5,-189.5 413.5,-189.5 \" stroke=\"black\"/>\n",
       "<text font-family=\"Times,serif\" font-size=\"14.00\" text-anchor=\"middle\" x=\"379.5\" y=\"-174.3\">output:</text>\n",
       "<polyline fill=\"none\" points=\"413.5,-166.5 413.5,-212.5 \" stroke=\"black\"/>\n",
       "<text font-family=\"Times,serif\" font-size=\"14.00\" text-anchor=\"middle\" x=\"459.5\" y=\"-197.3\">(None, 22)</text>\n",
       "<polyline fill=\"none\" points=\"413.5,-189.5 505.5,-189.5 \" stroke=\"black\"/>\n",
       "<text font-family=\"Times,serif\" font-size=\"14.00\" text-anchor=\"middle\" x=\"459.5\" y=\"-174.3\">(None, 22)</text>\n",
       "</g>\n",
       "<!-- 140614309282648&#45;&gt;140614337875920 -->\n",
       "<g class=\"edge\" id=\"edge11\"><title>140614309282648-&gt;140614337875920</title>\n",
       "<path d=\"M255,-249.366C255,-241.152 255,-231.658 255,-222.725\" fill=\"none\" stroke=\"black\"/>\n",
       "<polygon fill=\"black\" points=\"258.5,-222.607 255,-212.607 251.5,-222.607 258.5,-222.607\" stroke=\"black\"/>\n",
       "</g>\n",
       "<!-- 140617908657344 -->\n",
       "<g class=\"node\" id=\"node13\"><title>140617908657344</title>\n",
       "<polygon fill=\"none\" points=\"92,-83.5 92,-129.5 418,-129.5 418,-83.5 92,-83.5\" stroke=\"black\"/>\n",
       "<text font-family=\"Times,serif\" font-size=\"14.00\" text-anchor=\"middle\" x=\"175\" y=\"-102.8\">dropout_56: Dropout</text>\n",
       "<polyline fill=\"none\" points=\"258,-83.5 258,-129.5 \" stroke=\"black\"/>\n",
       "<text font-family=\"Times,serif\" font-size=\"14.00\" text-anchor=\"middle\" x=\"292\" y=\"-114.3\">input:</text>\n",
       "<polyline fill=\"none\" points=\"258,-106.5 326,-106.5 \" stroke=\"black\"/>\n",
       "<text font-family=\"Times,serif\" font-size=\"14.00\" text-anchor=\"middle\" x=\"292\" y=\"-91.3\">output:</text>\n",
       "<polyline fill=\"none\" points=\"326,-83.5 326,-129.5 \" stroke=\"black\"/>\n",
       "<text font-family=\"Times,serif\" font-size=\"14.00\" text-anchor=\"middle\" x=\"372\" y=\"-114.3\">(None, 22)</text>\n",
       "<polyline fill=\"none\" points=\"326,-106.5 418,-106.5 \" stroke=\"black\"/>\n",
       "<text font-family=\"Times,serif\" font-size=\"14.00\" text-anchor=\"middle\" x=\"372\" y=\"-91.3\">(None, 22)</text>\n",
       "</g>\n",
       "<!-- 140614337875920&#45;&gt;140617908657344 -->\n",
       "<g class=\"edge\" id=\"edge12\"><title>140614337875920-&gt;140617908657344</title>\n",
       "<path d=\"M255,-166.366C255,-158.152 255,-148.658 255,-139.725\" fill=\"none\" stroke=\"black\"/>\n",
       "<polygon fill=\"black\" points=\"258.5,-139.607 255,-129.607 251.5,-139.607 258.5,-139.607\" stroke=\"black\"/>\n",
       "</g>\n",
       "<!-- 140617906836032 -->\n",
       "<g class=\"node\" id=\"node14\"><title>140617906836032</title>\n",
       "<polygon fill=\"none\" points=\"106.5,-0.5 106.5,-46.5 403.5,-46.5 403.5,-0.5 106.5,-0.5\" stroke=\"black\"/>\n",
       "<text font-family=\"Times,serif\" font-size=\"14.00\" text-anchor=\"middle\" x=\"175\" y=\"-19.8\">dense_70: Dense</text>\n",
       "<polyline fill=\"none\" points=\"243.5,-0.5 243.5,-46.5 \" stroke=\"black\"/>\n",
       "<text font-family=\"Times,serif\" font-size=\"14.00\" text-anchor=\"middle\" x=\"277.5\" y=\"-31.3\">input:</text>\n",
       "<polyline fill=\"none\" points=\"243.5,-23.5 311.5,-23.5 \" stroke=\"black\"/>\n",
       "<text font-family=\"Times,serif\" font-size=\"14.00\" text-anchor=\"middle\" x=\"277.5\" y=\"-8.3\">output:</text>\n",
       "<polyline fill=\"none\" points=\"311.5,-0.5 311.5,-46.5 \" stroke=\"black\"/>\n",
       "<text font-family=\"Times,serif\" font-size=\"14.00\" text-anchor=\"middle\" x=\"357.5\" y=\"-31.3\">(None, 22)</text>\n",
       "<polyline fill=\"none\" points=\"311.5,-23.5 403.5,-23.5 \" stroke=\"black\"/>\n",
       "<text font-family=\"Times,serif\" font-size=\"14.00\" text-anchor=\"middle\" x=\"357.5\" y=\"-8.3\">(None, 2)</text>\n",
       "</g>\n",
       "<!-- 140617908657344&#45;&gt;140617906836032 -->\n",
       "<g class=\"edge\" id=\"edge13\"><title>140617908657344-&gt;140617906836032</title>\n",
       "<path d=\"M255,-83.3664C255,-75.1516 255,-65.6579 255,-56.7252\" fill=\"none\" stroke=\"black\"/>\n",
       "<polygon fill=\"black\" points=\"258.5,-56.6068 255,-46.6068 251.5,-56.6069 258.5,-56.6068\" stroke=\"black\"/>\n",
       "</g>\n",
       "</g>\n",
       "</svg>"
      ],
      "text/plain": [
       "<IPython.core.display.SVG object>"
      ]
     },
     "execution_count": 52,
     "metadata": {},
     "output_type": "execute_result"
    }
   ],
   "source": [
    "from IPython.display import SVG\n",
    "from keras.utils.vis_utils import model_to_dot\n",
    "\n",
    "pred_y = model.predict(test_X)\n",
    "pred_y = np.argmax(pred_y, 1)\n",
    "SVG(model_to_dot(model, show_shapes=True).create(prog='dot', format='svg'))\n"
   ]
  },
  {
   "cell_type": "code",
   "execution_count": 57,
   "metadata": {
    "collapsed": true
   },
   "outputs": [],
   "source": [
    "model.save('keiba_cnn.h5')"
   ]
  },
  {
   "cell_type": "markdown",
   "metadata": {},
   "source": [
    "## 汎化性能の評価\n",
    "学習したモデルを使用してテスト用のデータで予測を行う。"
   ]
  },
  {
   "cell_type": "code",
   "execution_count": 58,
   "metadata": {
    "collapsed": false
   },
   "outputs": [
    {
     "name": "stdout",
     "output_type": "stream",
     "text": [
      "0.508537010628\n"
     ]
    }
   ],
   "source": [
    "print(f1_score(np.argmax(test_y, 1), pred_y, average='macro'))"
   ]
  },
  {
   "cell_type": "markdown",
   "metadata": {},
   "source": [
    "結果を見るに、約50%の確率で予測が当たるらしい。"
   ]
  },
  {
   "cell_type": "markdown",
   "metadata": {},
   "source": [
    "## 混同行列\n",
    "今回の問題は、2位圏内に入る馬を予測するということなのだが、  \n",
    "全て2位圏内に入らないと予測されている可能性も考慮する必要がある。  \n",
    "\n",
    "競馬において、最大の目的は「買った馬券が当たる」ことなので、  \n",
    "混同行列に置いて、True Positiveがどのくらいの割合なのかを検証してみる。\n",
    "\n",
    "この場合、1=3位になるなので、`c_matrix[1][1]`の割合を計算する。"
   ]
  },
  {
   "cell_type": "code",
   "execution_count": 61,
   "metadata": {
    "collapsed": false
   },
   "outputs": [
    {
     "name": "stdout",
     "output_type": "stream",
     "text": [
      "[[8547   26]\n",
      " [1357   70]]\n",
      "0.729166666667\n"
     ]
    }
   ],
   "source": [
    "from sklearn.metrics import confusion_matrix\n",
    "c_matrix = confusion_matrix(np.argmax(test_y, 1), pred_y)\n",
    "print(c_matrix)\n",
    "print(c_matrix[1][1]/(c_matrix[0][1]+c_matrix[1][1]))"
   ]
  },
  {
   "cell_type": "markdown",
   "metadata": {},
   "source": [
    "この場合、混同行列でいう「正解ラベルが陽性」だけを見れば良いので、下記の計算をすることができる。  \n",
    "また、今回予測した複勝というのは約８割が1−2倍の配当であるため、下記の計算をすると900円の利益が出ることが期待される。  \n",
    "つまり全然割に合わないことがわかった。"
   ]
  },
  {
   "cell_type": "code",
   "execution_count": 63,
   "metadata": {
    "collapsed": false
   },
   "outputs": [
    {
     "data": {
      "text/plain": [
       "900"
      ]
     },
     "execution_count": 63,
     "metadata": {},
     "output_type": "execute_result"
    }
   ],
   "source": [
    "# 利益 100-200の平均-コスト(100円)と仮定すると約50円の利益が期待される\n",
    "(c_matrix[1][1]*50)-(c_matrix[0][1]*100)"
   ]
  },
  {
   "cell_type": "markdown",
   "metadata": {},
   "source": [
    "## 考察\n",
    "なぜこのような結果になったのか、自分なりに考察して見る。\n",
    "- 正解ラベルが少なすぎた\n",
    "    - レースは15−18頭で行うものなので、圧倒的に正解ラベルが少なく、モデルがなるべく買わない方向に学習してしまったのではないか\n",
    "- 説明変数の選定が甘かった\n",
    "    - 仮説と因果関係を元に、説明変数を選定するべきだった。\n",
    "    - ランダムフォレスト、ロジスティック回帰の変数重要度などで仮説検証をする必要がある。\n",
    "- モデルの設計が甘かった\n",
    "    - CNNを選定したことや、ハイパーパラメータの設定について、理解が及んでいない部分があったため良い結果が得られなかったのではないか\n",
    "    \n",
    "つまりデータとモデルの理解が足りていなかったことがわかる。"
   ]
  },
  {
   "cell_type": "code",
   "execution_count": null,
   "metadata": {
    "collapsed": true
   },
   "outputs": [],
   "source": []
  },
  {
   "cell_type": "code",
   "execution_count": null,
   "metadata": {
    "collapsed": true
   },
   "outputs": [],
   "source": []
  },
  {
   "cell_type": "markdown",
   "metadata": {},
   "source": [
    "## 反省\n",
    "今回の反省としては、データを取得するスクリプトを作成するのにかなりの時間を費やしてしまったがために、モデルの設計や改善が疎かになってしまったことだ。  \n",
    "また、今回の課題では満足に着手できなかったので、次回チャレンジする際には下記の項目を考慮したモデルを構築したい。\n",
    "- 血統（遺伝アルゴリズム）\n",
    "- 期待値を元にした「意思決定」を含めた予測\n",
    "- 馬の特徴を元にした距離適性や馬場の相性予測\n",
    "- 騎手と馬の相性を元にした総合評価\n",
    "- 他の機械学習手法を比較分析したモデルの解釈"
   ]
  },
  {
   "cell_type": "markdown",
   "metadata": {},
   "source": [
    "## 最後に\n",
    "今回作成したモデルを使用して、サンプルのレースを予測してみる。"
   ]
  },
  {
   "cell_type": "code",
   "execution_count": 39,
   "metadata": {
    "collapsed": false
   },
   "outputs": [
    {
     "ename": "OSError",
     "evalue": "Unable to open file (unable to open file: name = './mnist_cnn.h5', errno = 2, error message = 'No such file or directory', flags = 0, o_flags = 0)",
     "output_type": "error",
     "traceback": [
      "\u001b[0;31m---------------------------------------------------------------------------\u001b[0m",
      "\u001b[0;31mOSError\u001b[0m                                   Traceback (most recent call last)",
      "\u001b[0;32m<ipython-input-39-b5594b102186>\u001b[0m in \u001b[0;36m<module>\u001b[0;34m()\u001b[0m\n\u001b[1;32m      1\u001b[0m \u001b[0;32mfrom\u001b[0m \u001b[0mkeras\u001b[0m\u001b[0;34m.\u001b[0m\u001b[0mmodels\u001b[0m \u001b[0;32mimport\u001b[0m \u001b[0mload_model\u001b[0m\u001b[0;34m\u001b[0m\u001b[0m\n\u001b[0;32m----> 2\u001b[0;31m \u001b[0mmodel\u001b[0m \u001b[0;34m=\u001b[0m \u001b[0mload_model\u001b[0m\u001b[0;34m(\u001b[0m\u001b[0;34m'./mnist_cnn.h5'\u001b[0m\u001b[0;34m)\u001b[0m\u001b[0;34m\u001b[0m\u001b[0m\n\u001b[0m\u001b[1;32m      3\u001b[0m \u001b[0mvalid_X\u001b[0m \u001b[0;34m=\u001b[0m \u001b[0;34m[\u001b[0m\u001b[0;34m]\u001b[0m \u001b[0;31m# ＠読み込みする\u001b[0m\u001b[0;34m\u001b[0m\u001b[0m\n\u001b[1;32m      4\u001b[0m \u001b[0mpred_y\u001b[0m \u001b[0;34m=\u001b[0m \u001b[0mmodel\u001b[0m\u001b[0;34m.\u001b[0m\u001b[0mpredict\u001b[0m\u001b[0;34m(\u001b[0m\u001b[0mvalid_X\u001b[0m\u001b[0;34m)\u001b[0m\u001b[0;34m\u001b[0m\u001b[0m\n\u001b[1;32m      5\u001b[0m \u001b[0;31m# ＠表組みで予測結果を可視化する\u001b[0m\u001b[0;34m\u001b[0m\u001b[0;34m\u001b[0m\u001b[0m\n",
      "\u001b[0;32m/usr/local/lib/python3.5/dist-packages/keras/models.py\u001b[0m in \u001b[0;36mload_model\u001b[0;34m(filepath, custom_objects, compile)\u001b[0m\n\u001b[1;32m    232\u001b[0m             \u001b[0;32mreturn\u001b[0m \u001b[0mcustom_objects\u001b[0m\u001b[0;34m[\u001b[0m\u001b[0mobj\u001b[0m\u001b[0;34m]\u001b[0m\u001b[0;34m\u001b[0m\u001b[0m\n\u001b[1;32m    233\u001b[0m         \u001b[0;32mreturn\u001b[0m \u001b[0mobj\u001b[0m\u001b[0;34m\u001b[0m\u001b[0m\n\u001b[0;32m--> 234\u001b[0;31m     \u001b[0;32mwith\u001b[0m \u001b[0mh5py\u001b[0m\u001b[0;34m.\u001b[0m\u001b[0mFile\u001b[0m\u001b[0;34m(\u001b[0m\u001b[0mfilepath\u001b[0m\u001b[0;34m,\u001b[0m \u001b[0mmode\u001b[0m\u001b[0;34m=\u001b[0m\u001b[0;34m'r'\u001b[0m\u001b[0;34m)\u001b[0m \u001b[0;32mas\u001b[0m \u001b[0mf\u001b[0m\u001b[0;34m:\u001b[0m\u001b[0;34m\u001b[0m\u001b[0m\n\u001b[0m\u001b[1;32m    235\u001b[0m         \u001b[0;31m# instantiate model\u001b[0m\u001b[0;34m\u001b[0m\u001b[0;34m\u001b[0m\u001b[0m\n\u001b[1;32m    236\u001b[0m         \u001b[0mmodel_config\u001b[0m \u001b[0;34m=\u001b[0m \u001b[0mf\u001b[0m\u001b[0;34m.\u001b[0m\u001b[0mattrs\u001b[0m\u001b[0;34m.\u001b[0m\u001b[0mget\u001b[0m\u001b[0;34m(\u001b[0m\u001b[0;34m'model_config'\u001b[0m\u001b[0;34m)\u001b[0m\u001b[0;34m\u001b[0m\u001b[0m\n",
      "\u001b[0;32m/usr/local/lib/python3.5/dist-packages/h5py/_hl/files.py\u001b[0m in \u001b[0;36m__init__\u001b[0;34m(self, name, mode, driver, libver, userblock_size, swmr, **kwds)\u001b[0m\n\u001b[1;32m    267\u001b[0m             \u001b[0;32mwith\u001b[0m \u001b[0mphil\u001b[0m\u001b[0;34m:\u001b[0m\u001b[0;34m\u001b[0m\u001b[0m\n\u001b[1;32m    268\u001b[0m                 \u001b[0mfapl\u001b[0m \u001b[0;34m=\u001b[0m \u001b[0mmake_fapl\u001b[0m\u001b[0;34m(\u001b[0m\u001b[0mdriver\u001b[0m\u001b[0;34m,\u001b[0m \u001b[0mlibver\u001b[0m\u001b[0;34m,\u001b[0m \u001b[0;34m**\u001b[0m\u001b[0mkwds\u001b[0m\u001b[0;34m)\u001b[0m\u001b[0;34m\u001b[0m\u001b[0m\n\u001b[0;32m--> 269\u001b[0;31m                 \u001b[0mfid\u001b[0m \u001b[0;34m=\u001b[0m \u001b[0mmake_fid\u001b[0m\u001b[0;34m(\u001b[0m\u001b[0mname\u001b[0m\u001b[0;34m,\u001b[0m \u001b[0mmode\u001b[0m\u001b[0;34m,\u001b[0m \u001b[0muserblock_size\u001b[0m\u001b[0;34m,\u001b[0m \u001b[0mfapl\u001b[0m\u001b[0;34m,\u001b[0m \u001b[0mswmr\u001b[0m\u001b[0;34m=\u001b[0m\u001b[0mswmr\u001b[0m\u001b[0;34m)\u001b[0m\u001b[0;34m\u001b[0m\u001b[0m\n\u001b[0m\u001b[1;32m    270\u001b[0m \u001b[0;34m\u001b[0m\u001b[0m\n\u001b[1;32m    271\u001b[0m                 \u001b[0;32mif\u001b[0m \u001b[0mswmr_support\u001b[0m\u001b[0;34m:\u001b[0m\u001b[0;34m\u001b[0m\u001b[0m\n",
      "\u001b[0;32m/usr/local/lib/python3.5/dist-packages/h5py/_hl/files.py\u001b[0m in \u001b[0;36mmake_fid\u001b[0;34m(name, mode, userblock_size, fapl, fcpl, swmr)\u001b[0m\n\u001b[1;32m     97\u001b[0m         \u001b[0;32mif\u001b[0m \u001b[0mswmr\u001b[0m \u001b[0;32mand\u001b[0m \u001b[0mswmr_support\u001b[0m\u001b[0;34m:\u001b[0m\u001b[0;34m\u001b[0m\u001b[0m\n\u001b[1;32m     98\u001b[0m             \u001b[0mflags\u001b[0m \u001b[0;34m|=\u001b[0m \u001b[0mh5f\u001b[0m\u001b[0;34m.\u001b[0m\u001b[0mACC_SWMR_READ\u001b[0m\u001b[0;34m\u001b[0m\u001b[0m\n\u001b[0;32m---> 99\u001b[0;31m         \u001b[0mfid\u001b[0m \u001b[0;34m=\u001b[0m \u001b[0mh5f\u001b[0m\u001b[0;34m.\u001b[0m\u001b[0mopen\u001b[0m\u001b[0;34m(\u001b[0m\u001b[0mname\u001b[0m\u001b[0;34m,\u001b[0m \u001b[0mflags\u001b[0m\u001b[0;34m,\u001b[0m \u001b[0mfapl\u001b[0m\u001b[0;34m=\u001b[0m\u001b[0mfapl\u001b[0m\u001b[0;34m)\u001b[0m\u001b[0;34m\u001b[0m\u001b[0m\n\u001b[0m\u001b[1;32m    100\u001b[0m     \u001b[0;32melif\u001b[0m \u001b[0mmode\u001b[0m \u001b[0;34m==\u001b[0m \u001b[0;34m'r+'\u001b[0m\u001b[0;34m:\u001b[0m\u001b[0;34m\u001b[0m\u001b[0m\n\u001b[1;32m    101\u001b[0m         \u001b[0mfid\u001b[0m \u001b[0;34m=\u001b[0m \u001b[0mh5f\u001b[0m\u001b[0;34m.\u001b[0m\u001b[0mopen\u001b[0m\u001b[0;34m(\u001b[0m\u001b[0mname\u001b[0m\u001b[0;34m,\u001b[0m \u001b[0mh5f\u001b[0m\u001b[0;34m.\u001b[0m\u001b[0mACC_RDWR\u001b[0m\u001b[0;34m,\u001b[0m \u001b[0mfapl\u001b[0m\u001b[0;34m=\u001b[0m\u001b[0mfapl\u001b[0m\u001b[0;34m)\u001b[0m\u001b[0;34m\u001b[0m\u001b[0m\n",
      "\u001b[0;32mh5py/_objects.pyx\u001b[0m in \u001b[0;36mh5py._objects.with_phil.wrapper\u001b[0;34m()\u001b[0m\n",
      "\u001b[0;32mh5py/_objects.pyx\u001b[0m in \u001b[0;36mh5py._objects.with_phil.wrapper\u001b[0;34m()\u001b[0m\n",
      "\u001b[0;32mh5py/h5f.pyx\u001b[0m in \u001b[0;36mh5py.h5f.open\u001b[0;34m()\u001b[0m\n",
      "\u001b[0;31mOSError\u001b[0m: Unable to open file (unable to open file: name = './mnist_cnn.h5', errno = 2, error message = 'No such file or directory', flags = 0, o_flags = 0)"
     ]
    }
   ],
   "source": [
    "from keras.models import load_model\n",
    "model = load_model('./mnist_cnn.h5')\n",
    "valid_X = [] # ＠読み込みする\n",
    "pred_y = model.predict(valid_X)\n",
    "# ＠表組みで予測結果を可視化する"
   ]
  },
  {
   "cell_type": "markdown",
   "metadata": {},
   "source": [
    "参考  \n",
    "https://alphaimpact.jp/2017/05/04/perceptron/  \n",
    "http://sleeping-micchi.hatenablog.com/entry/2016/09/15/004221  \n",
    "http://www.umameshi.com/info/%E7%AB%B6%E9%A6%AC-%E8%A4%87%E5%8B%9D-%E5%B9%B3%E5%9D%87%E9%85%8D%E5%BD%93-%E3%82%AA%E3%83%83%E3%82%BA-%E8%A6%8B%E6%96%B9-%E4%BB%95%E7%B5%84%E3%81%BF.html"
   ]
  },
  {
   "cell_type": "code",
   "execution_count": null,
   "metadata": {
    "collapsed": true
   },
   "outputs": [],
   "source": []
  },
  {
   "cell_type": "code",
   "execution_count": null,
   "metadata": {
    "collapsed": true
   },
   "outputs": [],
   "source": []
  }
 ],
 "metadata": {
  "kernelspec": {
   "display_name": "Python 2",
   "language": "python",
   "name": "python2"
  },
  "language_info": {
   "codemirror_mode": {
    "name": "ipython",
    "version": 2
   },
   "file_extension": ".py",
   "mimetype": "text/x-python",
   "name": "python",
   "nbconvert_exporter": "python",
   "pygments_lexer": "ipython2",
   "version": "2.7.14"
  }
 },
 "nbformat": 4,
 "nbformat_minor": 2
}
